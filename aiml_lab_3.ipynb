{
  "nbformat": 4,
  "nbformat_minor": 0,
  "metadata": {
    "colab": {
      "provenance": []
    },
    "kernelspec": {
      "name": "python3",
      "display_name": "Python 3"
    },
    "language_info": {
      "name": "python"
    }
  },
  "cells": [
    {
      "cell_type": "markdown",
      "source": [
        "bfs\n"
      ],
      "metadata": {
        "id": "RYk8jkyqwUez"
      }
    },
    {
      "cell_type": "code",
      "execution_count": null,
      "metadata": {
        "colab": {
          "base_uri": "https://localhost:8080/"
        },
        "id": "n63iayg2wA6D",
        "outputId": "59868698-0ff9-4748-fb17-5bd63a4027a3"
      },
      "outputs": [
        {
          "output_type": "stream",
          "name": "stdout",
          "text": [
            "The path from Trivandrum to Kolkata is: Trivandrum -> TM -> GOA -> NAG -> JH -> KH -> HWH -> Kolkata\n",
            "The total distance traveled is 5817 km.\n"
          ]
        }
      ],
      "source": [
        "from collections import defaultdict, deque\n",
        "def bfs(graph, start, end):\n",
        "    queue = deque([(start, [start], 0)])\n",
        "    visited = set([start])\n",
        "    while queue:\n",
        "        (vertex, path, distance) = queue.popleft()\n",
        "        for neighbor, weight in graph[vertex].items():\n",
        "            if neighbor == end:\n",
        "                return path + [neighbor], distance + weight\n",
        "            elif neighbor not in visited:\n",
        "                visited.add(neighbor)\n",
        "                queue.append((neighbor, path + [neighbor], distance + weight))\n",
        "    return None\n",
        "graph = defaultdict(dict)\n",
        "graph['Trivandrum'] = {'TM': 1800}\n",
        "graph['TM'] = {'YS': 700, 'GOA': 1800}\n",
        "graph['YS'] = {'HYD': 2001}\n",
        "graph['GOA'] = {'NAG': 750}\n",
        "graph['HYD'] = {'WR': 120}\n",
        "graph['NAG'] = {'JH': 780}\n",
        "graph['WR'] = {'BS': 510}\n",
        "graph['JH'] = {'KH': 512}\n",
        "graph['BS'] = {'BBS': 470}\n",
        "graph['BBS'] = {'KH': 300}\n",
        "graph['KH'] = {'HWH': 150}\n",
        "graph['HWH'] = {'Kolkata': 25}\n",
        "graph['Kolkata'] = {}\n",
        "start = 'Trivandrum'\n",
        "end = 'Kolkata'\n",
        "path, distance = bfs(graph, start, end)\n",
        "if path:\n",
        "    print(f\"The path from {start} to {end} is: {' -> '.join(path)}\")\n",
        "    print(f\"The total distance traveled is {distance} km.\")\n",
        "else:\n",
        "    print(f\"No path found from {start} to {end}\")"
      ]
    },
    {
      "cell_type": "markdown",
      "source": [
        "dfs\n"
      ],
      "metadata": {
        "id": "ctU5tw3pwfYb"
      }
    },
    {
      "cell_type": "code",
      "source": [
        "from collections import defaultdict\n",
        "def dfs(graph, start, end, visited=None, path=None, distance=0):\n",
        "    if visited is None:\n",
        "        visited = set()\n",
        "    if path is None:\n",
        "        path = [start]\n",
        "    visited.add(start)\n",
        "    if start == end:\n",
        "        return path, distance\n",
        "    for neighbor, weight in graph[start].items():\n",
        "        if neighbor not in visited:\n",
        "            new_path = path + [neighbor]\n",
        "            new_distance = distance + weight\n",
        "            result = dfs(graph, neighbor, end, visited, new_path, new_distance)\n",
        "            if result is not None:\n",
        "                return result\n",
        "    return None\n",
        "graph = defaultdict(dict)\n",
        "graph['Trivandrum'] = {'TM': 1800}\n",
        "graph['TM'] = {'YS': 700, 'GOA': 1800}\n",
        "graph['YS'] = {'HYD': 2001}\n",
        "graph['GOA'] = {'NAG': 750}\n",
        "graph['HYD'] = {'WR': 120}\n",
        "graph['NAG'] = {'JH': 780}\n",
        "graph['WR'] = {'BS': 510}\n",
        "graph['JH'] = {'KH': 512}\n",
        "graph['BS'] = {'BBS': 470}\n",
        "graph['BBS'] = {'KH': 300}\n",
        "graph['KH'] = {'HWH': 150}\n",
        "graph['HWH'] = {'Kolkata': 25}\n",
        "graph['Kolkata'] = {}\n",
        "start = 'Trivandrum'\n",
        "end = 'Kolkata'\n",
        "result = dfs(graph, start, end)\n",
        "if result:\n",
        "    path, distance = result\n",
        "    print(f\"The path from {start} to {end} is: {' -> '.join(path)}\")\n",
        "    print(f\"The total distance traveled is {distance} km.\")\n",
        "else:\n",
        "    print(f\"No path found from {start} to {end}\")"
      ],
      "metadata": {
        "colab": {
          "base_uri": "https://localhost:8080/"
        },
        "id": "Z6vYr8tvwguR",
        "outputId": "6b6dd3bf-4497-44fc-d2e2-31a25cf74afe"
      },
      "execution_count": null,
      "outputs": [
        {
          "output_type": "stream",
          "name": "stdout",
          "text": [
            "The path from Trivandrum to Kolkata is: Trivandrum -> TM -> YS -> HYD -> WR -> BS -> BBS -> KH -> HWH -> Kolkata\n",
            "The total distance traveled is 6076 km.\n"
          ]
        }
      ]
    }
  ]
}